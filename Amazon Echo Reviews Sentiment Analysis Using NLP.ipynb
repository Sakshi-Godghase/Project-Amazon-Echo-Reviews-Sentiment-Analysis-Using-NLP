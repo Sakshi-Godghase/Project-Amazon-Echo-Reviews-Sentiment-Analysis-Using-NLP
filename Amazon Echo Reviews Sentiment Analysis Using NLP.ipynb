{
 "cells": [
  {
   "cell_type": "code",
   "execution_count": null,
   "id": "04b9aaad-b326-46c8-a47b-5b669371f3a5",
   "metadata": {},
   "outputs": [],
   "source": [
    "# Import necessary libraries\n",
    "import pandas as pd\n",
    "import numpy as np\n",
    "import matplotlib.pyplot as plt\n",
    "import seaborn as sns\n",
    "from sklearn.model_selection import train_test_split\n",
    "from sklearn.feature_extraction.text import TfidfVectorizer\n",
    "from sklearn.linear_model import LogisticRegression\n",
    "from sklearn.metrics import accuracy_score, classification_report, confusion_matrix\n",
    "import re\n",
    "import nltk\n",
    "from nltk.corpus import stopwords"
   ]
  },
  {
   "cell_type": "code",
   "execution_count": null,
   "id": "2e180aa5-491d-4f06-9723-2996c3336329",
   "metadata": {},
   "outputs": [],
   "source": [
    "# Download NLTK data\n",
    "nltk.download('stopwords')"
   ]
  },
  {
   "cell_type": "code",
   "execution_count": null,
   "id": "58f290ca-fd83-4b34-91b6-74f553e9e79e",
   "metadata": {},
   "outputs": [],
   "source": [
    "# Load the dataset \n",
    "# sentiment = 1 (positive), sentiment = 0 (negative)\n",
    "data = pd.read_csv('amazon_echo_reviews.csv')\n",
    "\n",
    "# Preview the dataset\n",
    "data.head()\n",
    "\n",
    "# Check for missing values\n",
    "print(\"Missing values:\", data.isnull().sum())\n",
    "\n",
    "# Drop missing values if any\n",
    "data.dropna(inplace=True)\n",
    "\n",
    "# Explore target distribution\n",
    "sns.countplot(x='sentiment', data=data)\n",
    "plt.title('Distribution of Sentiment in Reviews')\n",
    "plt.show()"
   ]
  },
  {
   "cell_type": "code",
   "execution_count": null,
   "id": "e62a9229-6fe6-47b1-bdf1-d6449c3f1e6e",
   "metadata": {},
   "outputs": [],
   "source": [
    "# Preprocessing: Clean and prepare the text data\n",
    "def clean_text(text):\n",
    "    # Remove special characters and numbers\n",
    "    text = re.sub(r'[^a-zA-Z\\s]', '', text, re.I|re.A)\n",
    "    # Convert to lowercase\n",
    "    text = text.lower()\n",
    "    # Remove stopwords\n",
    "    stop_words = set(stopwords.words('english'))\n",
    "    text = ' '.join([word for word in text.split() if word not in stop_words])\n",
    "    return text\n",
    "\n",
    "# Apply the cleaning function to the reviews\n",
    "data['cleaned_review'] = data['review'].apply(clean_text)\n",
    "\n",
    "# Display a few cleaned reviews\n",
    "data[['review', 'cleaned_review']].head()\n",
    "\n",
    "# Convert text into numerical features using TF-IDF vectorizer\n",
    "tfidf_vectorizer = TfidfVectorizer(max_features=5000)\n",
    "X = tfidf_vectorizer.fit_transform(data['cleaned_review']).toarray()\n",
    "\n",
    "# Target variable\n",
    "y = data['sentiment']\n"
   ]
  },
  {
   "cell_type": "code",
   "execution_count": null,
   "id": "bc16db0f-f934-4af3-8ef1-e52a0e69dae0",
   "metadata": {},
   "outputs": [],
   "source": [
    "# Split the data into training and testing sets\n",
    "X_train, X_test, y_train, y_test = train_test_split(X, y, test_size=0.2, random_state=42)\n",
    "\n",
    "# Model building: Logistic Regression\n",
    "model = LogisticRegression()\n",
    "model.fit(X_train, y_train)\n",
    "\n",
    "# Make predictions\n",
    "y_pred = model.predict(X_test)\n",
    "\n",
    "# Evaluate the model\n",
    "accuracy = accuracy_score(y_test, y_pred)\n",
    "print(f\"Accuracy: {accuracy * 100:.2f}%\")\n",
    "\n",
    "# Classification report\n",
    "print(\"Classification Report:\\n\", classification_report(y_test, y_pred))\n"
   ]
  },
  {
   "cell_type": "code",
   "execution_count": null,
   "id": "23d51c87-537e-4c7c-ba6c-8ef42fbe4293",
   "metadata": {},
   "outputs": [],
   "source": [
    "# Confusion Matrix\n",
    "conf_matrix = confusion_matrix(y_test, y_pred)\n",
    "plt.figure(figsize=(6, 4))\n",
    "sns.heatmap(conf_matrix, annot=True, fmt='d', cmap='Blues')\n",
    "plt.title('Confusion Matrix')\n",
    "plt.ylabel('Actual Label')\n",
    "plt.xlabel('Predicted Label')\n",
    "plt.show()\n",
    "\n"
   ]
  },
  {
   "cell_type": "code",
   "execution_count": null,
   "id": "ba3af074-0b8b-4a31-ba1f-481264bb222a",
   "metadata": {},
   "outputs": [],
   "source": [
    "# Test with a new review (custom input)\n",
    "def predict_sentiment(review):\n",
    "    review_cleaned = clean_text(review)\n",
    "    review_vectorized = tfidf_vectorizer.transform([review_cleaned]).toarray()\n",
    "    prediction = model.predict(review_vectorized)\n",
    "    sentiment = \"Positive\" if prediction == 1 else \"Negative\"\n",
    "    return sentiment\n",
    "\n"
   ]
  },
  {
   "cell_type": "code",
   "execution_count": null,
   "id": "f4ea177c-4501-412b-89e0-24d291ee0ee6",
   "metadata": {},
   "outputs": [],
   "source": [
    "# Test with an example\n",
    "new_review = \"I love the Amazon Echo, it's really helpful!\"\n",
    "predicted_sentiment = predict_sentiment(new_review)\n",
    "print(f\"Review: {new_review}\")\n",
    "print(f\"Predicted Sentiment: {predicted_sentiment}\")"
   ]
  }
 ],
 "metadata": {
  "kernelspec": {
   "display_name": "Python 3 (ipykernel)",
   "language": "python",
   "name": "python3"
  },
  "language_info": {
   "codemirror_mode": {
    "name": "ipython",
    "version": 3
   },
   "file_extension": ".py",
   "mimetype": "text/x-python",
   "name": "python",
   "nbconvert_exporter": "python",
   "pygments_lexer": "ipython3",
   "version": "3.11.7"
  }
 },
 "nbformat": 4,
 "nbformat_minor": 5
}
